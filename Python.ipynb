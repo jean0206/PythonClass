{
 "cells": [
  {
   "cell_type": "markdown",
   "metadata": {},
   "source": [
    "# Python Exercises, practice  \n",
    "\n",
    "\n",
    "+ __Student 1:__ Jean Carlos Ortiz Riascos\n",
    "+ __Student 2:__"
   ]
  },
  {
   "cell_type": "code",
   "execution_count": 2,
   "metadata": {},
   "outputs": [
    {
     "name": "stdout",
     "output_type": "stream",
     "text": [
      "hello world\n"
     ]
    }
   ],
   "source": [
    "#__1 exercise__\n",
    "\n",
    "#print hello world\n",
    "\n",
    "print(\"hello world\")"
   ]
  },
  {
   "cell_type": "code",
   "execution_count": 12,
   "metadata": {},
   "outputs": [],
   "source": [
    "#__2 exercise__\n",
    "\n",
    "#Let's create a variable with the name _variable_ and assign it the value \"hello world\".\n",
    "\n",
    "_variable_=\"hello world\""
   ]
  },
  {
   "cell_type": "code",
   "execution_count": 13,
   "metadata": {},
   "outputs": [
    {
     "name": "stdout",
     "output_type": "stream",
     "text": [
      "<class 'str'>\n"
     ]
    }
   ],
   "source": [
    "#__3 exercise__\n",
    "\n",
    "#Print the type of _variable_\n",
    "\n",
    "print(type(_variable_))"
   ]
  },
  {
   "cell_type": "code",
   "execution_count": 16,
   "metadata": {},
   "outputs": [
    {
     "data": {
      "text/plain": [
       "'hello '"
      ]
     },
     "execution_count": 16,
     "metadata": {},
     "output_type": "execute_result"
    }
   ],
   "source": [
    "#__4 exercise__\n",
    "\n",
    "#Let's remove the word \" world\" from _variable_\n",
    "_variable_.strip(\"world\")"
   ]
  },
  {
   "cell_type": "code",
   "execution_count": 27,
   "metadata": {},
   "outputs": [
    {
     "name": "stdout",
     "output_type": "stream",
     "text": [
      "1\n",
      "3\n",
      "5\n",
      "7\n",
      "9\n",
      "11\n",
      "13\n",
      "15\n",
      "17\n",
      "19\n"
     ]
    }
   ],
   "source": [
    "#__2 exercise__\n",
    "\n",
    "#Let's make a function which receives a list of number from 1 to 20 and prints only the number that are odd.\n",
    "x=[1,2,3,4,5,6,7,8,9,10,11,12,13,14,15,16,17,18,19,20]\n",
    "def listOdd(x):\n",
    "    for i in range(len(x)):\n",
    "        if x[i] % 2 == 1:\n",
    "            print(x[i])\n",
    "    \n",
    "listOdd(x)"
   ]
  },
  {
   "cell_type": "code",
   "execution_count": 29,
   "metadata": {},
   "outputs": [
    {
     "name": "stdout",
     "output_type": "stream",
     "text": [
      "[4, 16, 36, 64]\n"
     ]
    }
   ],
   "source": [
    "#__3 exercise__\n",
    "\n",
    "#Let's make a method in a Python file which receives two parameters:\n",
    "\n",
    "#+ A list of integers \n",
    "#+ An exponent number \n",
    "\n",
    "#$b^{n} = b \\times \\dots \\times b$  \n",
    "\n",
    "#The method allows us to calculate the exponentiation of each number in the list.\n",
    "\n",
    "#We must import the file and use it to call the method\n",
    "x=[]\n",
    "def exponents(list,exponent):\n",
    "    x=[]\n",
    "    for i in range(len(list)):\n",
    "        b=list[i]**exponent\n",
    "        x.append(b)\n",
    "    print(x)\n"
   ]
  },
  {
   "cell_type": "code",
   "execution_count": 31,
   "metadata": {},
   "outputs": [
    {
     "ename": "NameError",
     "evalue": "name 'VariableUno' is not defined",
     "output_type": "error",
     "traceback": [
      "\u001b[1;31m---------------------------------------------------------------------------\u001b[0m",
      "\u001b[1;31mNameError\u001b[0m                                 Traceback (most recent call last)",
      "\u001b[1;32m<ipython-input-31-e4aa3ea95c61>\u001b[0m in \u001b[0;36m<module>\u001b[1;34m\u001b[0m\n\u001b[0;32m      8\u001b[0m \u001b[0mvariableUno\u001b[0m\u001b[1;33m=\u001b[0m\u001b[1;33m[\u001b[0m\u001b[1;36m1\u001b[0m\u001b[1;33m,\u001b[0m\u001b[1;36m2\u001b[0m\u001b[1;33m,\u001b[0m\u001b[1;36m3\u001b[0m\u001b[1;33m,\u001b[0m\u001b[1;36m4\u001b[0m\u001b[1;33m]\u001b[0m\u001b[1;33m\u001b[0m\u001b[1;33m\u001b[0m\u001b[0m\n\u001b[0;32m      9\u001b[0m \u001b[0mvariableDos\u001b[0m\u001b[1;33m=\u001b[0m\u001b[1;33m[\u001b[0m\u001b[1;34m\"1\"\u001b[0m\u001b[1;33m,\u001b[0m\u001b[1;34m\"a\"\u001b[0m\u001b[1;33m,\u001b[0m\u001b[1;34m\"?\"\u001b[0m\u001b[1;33m]\u001b[0m\u001b[1;33m\u001b[0m\u001b[1;33m\u001b[0m\u001b[0m\n\u001b[1;32m---> 10\u001b[1;33m \u001b[0mdiccionario\u001b[0m\u001b[1;33m=\u001b[0m\u001b[1;33m{\u001b[0m\u001b[0mvariableDos\u001b[0m\u001b[1;33m:\u001b[0m\u001b[0mVariableUno\u001b[0m\u001b[1;33m}\u001b[0m\u001b[1;33m\u001b[0m\u001b[1;33m\u001b[0m\u001b[0m\n\u001b[0m",
      "\u001b[1;31mNameError\u001b[0m: name 'VariableUno' is not defined"
     ]
    }
   ],
   "source": [
    "#__4 exercise__\n",
    "\n",
    "#The idea is to do a dictionary _diccionario_ with the next keys and values:\n",
    "\n",
    "#_variableUno_: [1,2,3,4]\n",
    "\n",
    "#_variableDos_: [\"1\",\"a\",\"?\"]\n",
    "variableUno=[1,2,3,4]\n",
    "variableDos=[\"1\",\"a\",\"?\"]\n",
    "diccionario={variableDos:VariableUno}\n"
   ]
  },
  {
   "cell_type": "code",
   "execution_count": 40,
   "metadata": {},
   "outputs": [
    {
     "name": "stdout",
     "output_type": "stream",
     "text": [
      "zpam\n"
     ]
    }
   ],
   "source": [
    "#__5 exercise__\n",
    "\n",
    "#Change the first letter of \"Spam\" to \"z\" \n",
    "word=\"Spam\"\n",
    "word=\"z\"+word[1:4]\n",
    "print(word)"
   ]
  },
  {
   "cell_type": "code",
   "execution_count": 42,
   "metadata": {},
   "outputs": [],
   "source": [
    "#__6 exercise__\n",
    "\n",
    "#let's do a program which receives some parameters in order to calculate the perimeter of a rectangle.\n",
    "\n",
    "#$p = 2x + 2y$\n",
    "def perimeter(x,y):\n",
    "    b=2*x+x*y\n",
    "    return b\n"
   ]
  },
  {
   "cell_type": "code",
   "execution_count": 55,
   "metadata": {},
   "outputs": [
    {
     "name": "stdout",
     "output_type": "stream",
     "text": [
      "29.411764705882355\n",
      "21.604938271604937\n",
      "23.98687034465345\n",
      "22.1606648199446\n",
      "24.933720489837143\n"
     ]
    }
   ],
   "source": [
    "#__7 exercise__\n",
    "\n",
    "#+ Create a class that saves the name of a person, his height in meters and weights in kilograms.\n",
    "#+ This class must have a operation which calculate the Body mass index (BMI).\n",
    "#+ Define a list of 5 persons and print their BMI. \n",
    "class Person:\n",
    "    def __init__(self,height,weight):\n",
    "        self.height=height\n",
    "        self.weight=weight\n",
    "    \n",
    "    def calculateBodyMassIndex(self):\n",
    "        bmi=self.weight/(self.height**2)\n",
    "        return bmi\n",
    "persons=[Person(1.7,85),Person(1.8,70),Person(1.78,76),Person(1.9,80),Person(1.78,79)]\n",
    "\n",
    "for i in range(len(persons)):\n",
    "    print(persons[i].calculateBodyMassIndex())\n"
   ]
  },
  {
   "cell_type": "code",
   "execution_count": 58,
   "metadata": {},
   "outputs": [
    {
     "name": "stdout",
     "output_type": "stream",
     "text": [
      "1\n",
      "whiz\n",
      "bang\n",
      "whiz\n",
      "5\n",
      "whiz\n",
      "7\n",
      "whiz\n",
      "bang\n",
      "whiz\n",
      "11\n",
      "whiz\n",
      "13\n",
      "whiz\n",
      "bang\n",
      "whiz\n",
      "17\n",
      "whiz\n",
      "19\n",
      "whiz\n",
      "bang\n",
      "whiz\n",
      "23\n",
      "whiz\n",
      "25\n",
      "whiz\n",
      "bang\n",
      "whiz\n",
      "29\n",
      "whiz\n",
      "31\n",
      "whiz\n",
      "bang\n",
      "whiz\n",
      "35\n",
      "whiz\n",
      "37\n",
      "whiz\n",
      "bang\n",
      "whiz\n",
      "41\n",
      "whiz\n",
      "43\n",
      "whiz\n",
      "bang\n",
      "whiz\n",
      "47\n",
      "whiz\n",
      "49\n",
      "whiz\n",
      "bang\n",
      "whiz\n",
      "53\n",
      "whiz\n",
      "55\n",
      "whiz\n",
      "bang\n",
      "whiz\n",
      "59\n",
      "whiz\n",
      "61\n",
      "whiz\n",
      "bang\n",
      "whiz\n",
      "65\n",
      "whiz\n",
      "67\n",
      "whiz\n",
      "bang\n",
      "whiz\n",
      "71\n",
      "whiz\n",
      "73\n",
      "whiz\n",
      "bang\n",
      "whiz\n",
      "77\n",
      "whiz\n",
      "79\n",
      "whiz\n",
      "bang\n",
      "whiz\n",
      "83\n",
      "whiz\n",
      "85\n",
      "whiz\n",
      "bang\n",
      "whiz\n",
      "89\n",
      "whiz\n",
      "91\n",
      "whiz\n",
      "bang\n",
      "whiz\n",
      "95\n",
      "whiz\n",
      "97\n",
      "whiz\n",
      "bang\n",
      "whiz\n"
     ]
    }
   ],
   "source": [
    "#__8 exercise__\n",
    "\n",
    "#make a program that prints the numbers from 1 to 100\n",
    "#If the number is divisible by 2 then print \"whiz\"\n",
    "#if the number is divisible by 3 then print \"bang\"\n",
    "\n",
    "for i in range(100):\n",
    "    if (i+1)%2==0:\n",
    "        print(\"whiz\")\n",
    "    elif (i+1)%3==0:\n",
    "        print(\"bang\")\n",
    "    else: \n",
    "        print((i+1))\n",
    "        "
   ]
  }
 ],
 "metadata": {
  "kernelspec": {
   "display_name": "Python 3",
   "language": "python",
   "name": "python3"
  },
  "language_info": {
   "codemirror_mode": {
    "name": "ipython",
    "version": 3
   },
   "file_extension": ".py",
   "mimetype": "text/x-python",
   "name": "python",
   "nbconvert_exporter": "python",
   "pygments_lexer": "ipython3",
   "version": "3.7.3"
  }
 },
 "nbformat": 4,
 "nbformat_minor": 2
}
